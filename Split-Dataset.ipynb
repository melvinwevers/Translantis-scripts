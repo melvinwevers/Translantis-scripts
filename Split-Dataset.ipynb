{
 "cells": [
  {
   "cell_type": "code",
   "execution_count": 1,
   "metadata": {
    "collapsed": true
   },
   "outputs": [],
   "source": [
    "# Some initialisation code.\n",
    "\n",
    "# Load necessary modules.\n",
    "import os\n",
    "import sys\n",
    "import re\n",
    "\n",
    "# Set the folder in which individual files will be stored.\n",
    "DOCUMENTS_FOLDER = \"./documents\"\n",
    "\n",
    "\n",
    "class Date:\n",
    "    def __init__(self, day, month, year):\n",
    "        self.day = day\n",
    "        self.month = month\n",
    "        self.year = year\n",
    "\n",
    "    def __repr__(self):\n",
    "        return \"{} {} {}\".format(self.day, self.month, self.year)\n",
    "\n",
    "    def isValid(self):\n",
    "        return self.day != -1 and self.month != -1 and self.year != -1\n",
    "\n",
    "class Document:\n",
    "    def __init__(self, title, date, body):\n",
    "        self.title = title\n",
    "        self.date = date\n",
    "        self.body = body\n",
    "\n",
    "    def __repr__(self):\n",
    "        MAX_LENGTH = 100\n",
    "        body = self.body if len(self.body) < MAX_LENGTH else self.body[:MAX_LENGTH]\n",
    "        return \"{}, {}: {}\".format(self.title, self.date, body)"
   ]
  },
  {
   "cell_type": "markdown",
   "metadata": {},
   "source": [
    "**The interesting code starts below.**"
   ]
  },
  {
   "cell_type": "markdown",
   "metadata": {},
   "source": [
    "## Split dataset in individual documents"
   ]
  },
  {
   "cell_type": "code",
   "execution_count": 2,
   "metadata": {
    "collapsed": false
   },
   "outputs": [
    {
     "name": "stdout",
     "output_type": "stream",
     "text": [
      "First 500 characters of the data:\n",
      "﻿\n",
      "                               1 of 200 DOCUMENTS\n",
      "\n",
      "\n",
      "\n",
      "                                   Het Parool\n",
      "\n",
      "                             20 april 2016 woensdag\n",
      "\n",
      "Kohl tart Merkel\n",
      "\n",
      "BYLINE: SANDER BECKER\n",
      "\n",
      "SECTION: Nieuws; Blz. 4\n",
      "\n",
      "LENGTH: 748 woorden\n",
      "\n",
      "\n",
      "Duitsland: Oud-bondskanselier ontvangt Hongaarse premier\n",
      "\n",
      "Oud-bondskanselier Helmot Kohl ontving gisteren de Hongaarse premier Viktor\n",
      "Orbán. Een klap in het gezicht van de huidige bondskanselier Angela Merkel - en\n",
      "niet voor het eerst.\n",
      "\n",
      "De voormalige Duitse \n"
     ]
    }
   ],
   "source": [
    "# Read the downloaded dataset file and store in variable 'lines'.\n",
    "lines = []\n",
    "with open('dataset.txt', 'r') as f:\n",
    "    lines = f.read()\n",
    "    \n",
    "print(\"First 500 characters of the data:\\n{}\".format(lines[:500]))"
   ]
  },
  {
   "cell_type": "code",
   "execution_count": 3,
   "metadata": {
    "collapsed": true
   },
   "outputs": [],
   "source": [
    "# newDocumentExpression matches text of the form: \"123 of 200 DOCUMENTS\".\n",
    "# \\d matches digits [0-9].\n",
    "# For more regular expressions, see RegularExpressions-Example.ipynb\n",
    "newDocumentExpression = r\"\\b\\d+\\b of \\b\\d+\\b DOCUMENTS\""
   ]
  },
  {
   "cell_type": "code",
   "execution_count": 4,
   "metadata": {
    "collapsed": false
   },
   "outputs": [],
   "source": [
    "# Split the document in several documents based on the newDocumentExpression.\n",
    "# Skip the first element (index 0) as it contains all text BEFORE the first document.\n",
    "# Example:\n",
    "#     Text before Article\n",
    "#     1 of 200 DOCUMENTS\n",
    "#     Title of Article\n",
    "#     Body of Article\n",
    "documents = re.split(newDocumentExpression, lines)[1:]"
   ]
  },
  {
   "cell_type": "code",
   "execution_count": 5,
   "metadata": {
    "collapsed": false
   },
   "outputs": [
    {
     "name": "stdout",
     "output_type": "stream",
     "text": [
      "The amount of documents found is: 200\n"
     ]
    }
   ],
   "source": [
    "# Check if all documents are found.\n",
    "# The length (amount) of list of documents should equal the amount of documents.\n",
    "print(\"The amount of documents found is: {}\".format(len(documents)))"
   ]
  },
  {
   "cell_type": "code",
   "execution_count": 6,
   "metadata": {
    "collapsed": true
   },
   "outputs": [],
   "source": [
    "# Remove the leading/trailing whitespace from the documents.\n",
    "documents = [document.strip() for document in documents]"
   ]
  },
  {
   "cell_type": "code",
   "execution_count": 7,
   "metadata": {
    "collapsed": false
   },
   "outputs": [],
   "source": [
    "# Remove all hyperlink-like text from the documents.\n",
    "hyperlinkExpression = r\"https?:\\/\\/(www\\.)?[-a-zA-Z0-9@:%._\\+~#=]{2,256}\\.[a-z]{2,6}\\b(([-a-zA-Z0-9@:%_\\+.~#?&//=]|\\s*-)*)\"\n",
    "documents = [re.sub(hyperlinkExpression, '', document) for document in documents]"
   ]
  },
  {
   "cell_type": "markdown",
   "metadata": {},
   "source": [
    "Removes hyperlinks of the form:<br>\n",
    "http://www.standaard.be/cnt/dmf20161129_02597674\n",
    "\n",
    "but also:<br>\n",
    "https://www.rijksoverheid.nl/actueel/nieuws/2016/11/03/minister-president<br>\n",
    "[WHITESPACE]-rutte-verzorgt-de-preek-van-de-leek\n",
    "\n",
    "but only the first line of:<br>\n",
    "http://www.hln.be/hln/nl/4125/Internet/article/detail/2972254/2016/11/10/<br>\n",
    "[WHITESPACE]President<br>\n",
    "[WHITESPACE]-Trump-mag-twittervolgers-van-POTUS-houden.dhtml?utm_medium=rss&utm_content=ihln<br>\n",
    "[WHITESPACE]ophlnbehetallerlaatstenieuwsoverinternetgames\n",
    "\n",
    "If you can do any better, let me know :)"
   ]
  },
  {
   "cell_type": "markdown",
   "metadata": {},
   "source": [
    "### Saving the individual documents"
   ]
  },
  {
   "cell_type": "code",
   "execution_count": 8,
   "metadata": {
    "collapsed": true
   },
   "outputs": [],
   "source": [
    "# Create the folder where individual documents are stored.\n",
    "if not os.path.exists(DOCUMENTS_FOLDER):\n",
    "    os.makedirs(DOCUMENTS_FOLDER)"
   ]
  },
  {
   "cell_type": "code",
   "execution_count": 9,
   "metadata": {
    "collapsed": true
   },
   "outputs": [],
   "source": [
    "# Write the documents to individual files as '[number].txt'\n",
    "for document in documents:\n",
    "    index = documents.index(document) + 1\n",
    "    with open('{}/{}.txt'.format(DOCUMENTS_FOLDER, index), 'w+') as writeFile:\n",
    "        writeFile.write(document)"
   ]
  },
  {
   "cell_type": "markdown",
   "metadata": {},
   "source": [
    "## Aggregating the documents per year"
   ]
  },
  {
   "cell_type": "code",
   "execution_count": 10,
   "metadata": {
    "collapsed": false
   },
   "outputs": [
    {
     "name": "stdout",
     "output_type": "stream",
     "text": [
      "The first five titles are:\n",
      "['SECTION: Nieuws; Blz. 4', 'SECTION: De Verdieping; Blz. 2', 'SECTION: GOBUI1', 'SECTION: GOBUI1', 'SECTION: Buitenland; Blz. 13']\n"
     ]
    }
   ],
   "source": [
    "# Extract the titles of the documents.\n",
    "titles = []\n",
    "for document in documents:\n",
    "    documentSplit = document.split('\\n')\n",
    "    documentSplit = list(filter(None, documentSplit))\n",
    "\n",
    "    # Find the part that says 'LENGTH:', because...\n",
    "    lengthItem = next((s for s in documentSplit if 'LENGTH:' in s), None)\n",
    "    lengthIndex = documentSplit.index(lengthItem)\n",
    "    # ...the text is stored in the string one before the one that says 'LENGTH: xxx woorden'\n",
    "    title = documentSplit[lengthIndex-1]\n",
    "    titles.append(title)\n",
    "    \n",
    "print(\"The first five titles are:\\n{}\".format(titles[:5]))"
   ]
  },
  {
   "cell_type": "code",
   "execution_count": 11,
   "metadata": {
    "collapsed": false
   },
   "outputs": [
    {
     "name": "stdout",
     "output_type": "stream",
     "text": [
      "The first five bodies are:\n",
      "['Duitsland: Oud-bondskanselier ontvangt Hongaarse premier Oud-bondskanselier Helmot Kohl ontving gisteren de Hongaarse premier Viktor Orbán. Een klap in het gezicht van de huidige bondskanselier Angela Merkel - en niet voor het eerst. De voormalige Duitse bondskanselier Helmut Kohl (86) leek van het podium verdwenen. Toch wist hij de afgelopen dagen ineens weer alle ogen op zich gericht dankzij twee opmerkelijke acties. Dit weekend leverde hij om te beginnen stevige kritiek op het ruimhartige vluchtelingenbeleid van zijn opvolgster Angela Merkel. En gisteren ontving hij Merkels grootste tegenstander in het verhitte vluchtelingendebat: de Hongaarse premier Viktor Orbán. Vluchtelingen Het waren rake klappen in het gezicht van de zittende bondskanselier, met wie Kohl nog een appeltje te schillen had. Maar volgens veel Duitsers speelde er meer dan alleen een koningsdrama tussen een gewezen politicus en zijn opvolgster. Kohl, een overtuigd Europeaan, zou ook een poging hebben gedaan om de opstandige Orbán meer in de Europese pas te laten lopen âˆ\\' en daar zou hij Merkel juist een dienst mee hebben bewezen. Aanleiding voor alle ophef is de onlangs verschenen Hongaarse vertaling van Kohls boek Aus Sorge um Europa (2014). In een nieuw voorwoord, zondag gepubliceerd in Der Tagesspiegel, levert Kohl stevige kritiek op het opendeurenbeleid van Merkel. Hij schrijft dat Europa geen toevluchtsoord kan worden voor miljoenen mensen. De oplossing voor de migratiecrisis ligt volgens hem vooral in de gebieden waar mensen uit wegvluchten. Zonder Merkel te noemen schrijft hij verder dat moderne leiders geen \\'besluiten zonder overleg\\' horen te nemen. Het is een verwijzing naar het solistische besluit dat Merkel in september vorig jaar nam om duizenden vluchtelingen vanuit Hongarije vrije doorgang te verlenen via Oostenrijk naar Duitsland. Volgens critici lokte Merkel met deze stap de vluchtelingenstroom uit die nadien over Europa spoelde. Boven op dit stevige voorwoord ontving Kohl gisteren zijn omstreden \\'vriend\\' Orbán bij hem thuis in Oggersheim, bij Mannheim. De Hongaar verfoeit Merkels wens de vluchtelingen via een verplicht quotum over de lidstaten te verdelen. Hij wil dat landen hun eigen immigratiebeleid kunnen voeren en liet vorig jaar als eerste Europese leider een grenshek bouwen om vluchtelingen buiten de deur te houden. Voor beide Merkelonvriendelijke acties van Kohl valt een eenvoudig motief aan te wijzen: wraak. Het was namelijk Merkel die met een artikel in de Frankfurter Allgemeine Zeitung in 1999 het politieke einde inluidde van Kohl, destijds verwikkeld in een groot schandaal rond illegale partijfinanciering. Kohl viel van zijn voetstuk en verloor het erevoorzitterschap van de christendemocratische CDU, wat hij nog steeds nauwelijks kan verkroppen. Pro-Europees Toch is wraak waarschijnlijk niet het enige motief van Kohl. Want wie Kohls voorwoord aandachtig leest, ziet dat hij daarin ook Orbán ter verantwoording roept. De oud-kanselier betoogt dat de migratiecrisis niet kan worden bestreden met \\'oud, nationaal denken\\', maar alleen door alle landen hecht te laten samenwerken en door dezelfde grondbeginselen te koesteren. \"Hongarije mag daarbij niet ontbreken,\" aldus Kohl. Dat klinkt als een duidelijke oproep aan Orbán om zich meer te voegen naar het gezamenlijk belang. Kohl staat bekend als uitgesproken pro-Europees. In de jaren negentig zette hij zich fanatiek in voor de Europese integratie. De invoering van de euro is aan hem te danken, en in 1998 benoemde Brussel hem tot \\'ereburger van Europa\\'. Het zou daarom niet zo vreemd zijn, speculeren Duitse politici en journalisten, als Kohl het privébezoek van Orbán gisteren heeft aangegrepen om zijn Hongaarse vriend bij te sturen. Broze indruk Of dat ook is gebeurd, vertelt het verhaal helaas niet. Kohl zweeg gisteren, vanwege zijn zwakke gezondheid. Acht jaar geleden liep hij bij een valpartij ernstig hersenletsel op. Sindsdien kan hij bijna niet meer praten; alle communicatie verloopt via zijn 35 jaar jongere vrouw. Hij lichtte zijn bedoelingen dan ook niet toe. Orbán legde na afloop wel een korte verklaring af. Hij zei dat Kohl hem deed denken aan de vroegere paus Johannes Paulus II, die aan het einde van zijn leven ook een broze indruk maakte. En hij vroeg de toegestroomde journalisten om Kohl niet in allerlei politieke speculaties te betrekken. Sinds een valpartij kan hij nauwelijks meer praten, alle communicatie verloopt via zijn vrouw VIEW ORIGINAL PAGE: LOAD-DATE: 20 April 2016 LANGUAGE: DUTCH; NEDERLANDS GRAPHIC: Viktor Orbán (links) en Helmut Kohl. FOTO REUTERS PUBLICATION-TYPE: Krant JOURNAL-CODE: Het Parool                     Copyright 2016 De Persgroep Nederland BV                               All Rights Reserved', \"Duitsland en Frankrijk, voorheen de grote voortrekkers van Europese integratie, lijken hun hartstocht voor Europa kwijt te zijn. Merkel en Sarkozy dansen nu een wel heel voorzichtige tango. Ze zetten minuscule stapjes, ondertussen over de schouder glurend naar de kiezer die bang is voor meer Europa. LOAD-DATE: August 19, 2011 LANGUAGE: DUTCH; NEDERLANDS GRAPHIC: President Nicolas Sarkozy van Frankrijk en bondskanselier Angela Merkel van Duitsland (foto rechts). Hun voorgangers waren hartstochtelijke Europeanen. Van boven naar beneden: President Jacques Chirac (l) en bondskanselier Gerhard Schröder (2003). President François Mitterand (l) en bondskanselier Helmut Kohl (1987). President Valery Giscard d'Estaing (r) en bondskanselier Helmut Schmidt (1977). President George Pompidou (r) en bondskanselier Willy Brandt (1969). President Charles de Gaulle (r) en bondskanselier Konrad Adenauer (1963). foto's anp, epa, afp PUBLICATION-TYPE: Krant JOURNAL-CODE: Trouw                        Copyright 2011 PCM Uitgevers B.V.                               All Rights Reserved\", \"HIGHLIGHT: Bondskanselier Schroder reageert met zwaar geschut op de historische verkiezingsnederlaag in Noordrijn-Westfalen. Of hij het tij met een vervroegde landelijke gang naar de stembus kan keren, is de vraag. Door WIERD DUK Het is even wennen: bondskanselier Angela Merkel (CDU). De kans dat Merkel, leidster van Duitslands grootste oppositiepartij CDU/CSU, de zittende bondskanselier Gerhard Schroder deze herfst aflost en haar intrek neemt in het Kanzleramt in Berlijn is groot. Als het aan Schroder ligt worden er deze herfst in de Bondsrepubliek vervroegde Bondsdagverkiezingen gehouden. Schroders rood-groene coalitie in Berlijn wil, na de zware verkiezingsnederlaag gisteren in de belangrijke deelstaat Noordrijn-Westfalen (NRW), de kiezers het laatste woord geven: zo verder gaan? Of wil Duitsland een wisseling van de wacht? De aankondiging van Schroder, kort nadat duidelijk werd dat de SPD in NRW na 39 jaar onafgebroken regeringsdeelname een historische nederlaag had geleden, sloeg in als een bom. Aan vervroegde landelijke verkiezingen hadden weinigen gedacht. Schroder trok met zijn voorstel het initiatief naar zich toe. Rood-groen wil niet langer wachten tot september 2006, wanneer officieel een nieuwe Bondsdag moet worden gekozen. Na het verlies in NRW heeft rood-groen geen machtsbasis meer in de regio. De sociaal-democraten zijn nog slechts in vijf van de zestien deelstaatregeringen vertegenwoordigd. De Groenen zijn in de provincie zelfs helemaal weggevaagd en hebben alleen nog zitting in Schroders bondsregering. In de Bondsraad kan de conservatief-liberale oppositie alle wetsvoorstellen van Schroder en diens vice-kanselier, de in opspraak geraakte minister van Buitenlandse Zaken Joschka Fischer (Groenen), blokkeren. In een tijd dat Duitsland door een zware economische crisis gaat en Schroder probeert om ingrijpende hervormingen door te voeren, is deze situatie onwenselijk. Onmiddellijk na Schroders mededeling rees de vraag hoe er vanaf nu procedureel te werk moet worden gegaan. Alleen de Bondsdag kan besluiten tot een nieuwe verkiezingsdatum. Maar dit gebeurt in de regel indien er sprake is van een regeringscrisis. In dit geval moet Schroder de vertrouwensvraag stellen om dan door zijn eigen rood-groene meerderheid, in samenwerking met de oppositie, te worden weggestemd. De 'bittere nederlaag', aldus Schroder, in het hartland van de Duitse sociaal-democratie zou zijn terug te voeren op de hoge werkloosheid tussen Rijn en Ruhr. Van Duitslands vijf miljoen werklozen, leven er een miljoen in NRW. Dit is 12 procent van de beroepsbevolking. Maar niet alleen wat betreft de werkgelegenheid doet NRW het slechter dan vergelijkbare, zwaarwegende deelstaten als Beieren, Baden- Wurrtemberg en Hessen, waar de oppositie aan de macht is. Onder de sociaal-democratische minister-president Peer Steinbruck verbreidde zich onder de inwoners van NRW langzaam maar een depressieve stemming. Op alle belangrijke politieke dossiers arbeidsmarkt, veiligheid, gezondheidszorg, onderwijs achten de kiezers de oppositie bekwamer. Dit werd Steinbruck, die notabene geldt als een van de meest competente regionale sociaal-democratische leiders, uiteindelijk fataal. Of Gerhard Schroder, die bekend staat als een politieke pokeraar, met zijn verrassende mokerslag het tij in enkele maanden kan keren, is nu de vraag. Schroder gokt erop dat de oppositie, die tot nog toe vooral uitblinkt door onderling gekrakeel en inhoudelijke vaagheid, niet in staat zal zijn tijdig een aansprekend alternatief te formuleren voor zijn Hervormingsagenda 2010. Ook in 2002 stond rood-groen er in de peilingen abominabel voor, maar uiteindelijk waren het toch Schroder en Fischer, de politieke straatvechters, die aan het langste eind trokken. © Wegener.NV 2005 LOAD-DATE: May 23, 2005 LANGUAGE: Dutch PUB-TYPE: NEWSPAPER                         © Copyright 2005 De Gelderlander\", \"HIGHLIGHT:  Bondskanselier Schroder reageert met zwaar geschut op de historische verkiezingsnederlaag in Noordrijn-Westfalen. Of hij het tij met een vervroegde landelijke gang naar de stembus kan keren, is de vraag. Door WIERD DUK Het is even wennen: bondskanselier Angela Merkel (CDU). De kans dat Merkel, leidster van Duitslands grootste oppositiepartij CDU/CSU, de zittende bondskanselier Gerhard Schroder deze herfst aflost en haar intrek neemt in het Kanzleramt in Berlijn is groot. Als het aan Schroder ligt worden er deze herfst in de Bondsrepubliek vervroegde Bondsdagverkiezingen gehouden. Schroders rood-groene coalitie in Berlijn wil, na de zware verkiezingsnederlaag gisteren in de belangrijke deelstaat Noordrijn-Westfalen (NRW), de kiezers het laatste woord geven: zo verder gaan? Of wil Duitsland een wisseling van de wacht? De aankondiging van Schroder, kort nadat duidelijk werd dat de SPD in NRW na 39 jaar onafgebroken regeringsdeelname een historische nederlaag had geleden, sloeg in als een bom. Aan vervroegde landelijke verkiezingen hadden weinigen gedacht. Schroder trok met zijn voorstel het initiatief naar zich toe. Rood-groen wil niet langer wachten tot september 2006, wanneer officieel een nieuwe Bondsdag moet worden gekozen. Na het verlies in NRW heeft rood-groen geen machtsbasis meer in de regio. De sociaal-democraten zijn nog slechts in vijf van de zestien deelstaatregeringen vertegenwoordigd. De Groenen zijn in de provincie zelfs helemaal weggevaagd en hebben alleen nog zitting in Schroders bondsregering. In de Bondsraad kan de conservatief-liberale oppositie alle wetsvoorstellen van Schroder en diens vice-kanselier, de in opspraak geraakte minister van Buitenlandse Zaken Joschka Fischer (Groenen), blokkeren. In een tijd dat Duitsland door een zware economische crisis gaat en Schroder probeert om ingrijpende hervormingen door te voeren, is deze situatie onwenselijk. Onmiddellijk na Schroders mededeling rees de vraag hoe er vanaf nu procedureel te werk moet worden gegaan. Alleen de Bondsdag kan besluiten tot een nieuwe verkiezingsdatum. Maar dit gebeurt in de regel indien er sprake is van een regeringscrisis. In dit geval moet Schroder de vertrouwensvraag stellen om dan door zijn eigen rood-groene meerderheid, in samenwerking met de oppositie, te worden weggestemd. De 'bittere nederlaag', aldus Schroder, in het hartland van de Duitse sociaal-democratie zou zijn terug te voeren op de hoge werkloosheid tussen Rijn en Ruhr. Van Duitslands vijf miljoen werklozen, leven er een miljoen in NRW. Dit is 12 procent van de beroepsbevolking. Maar niet alleen wat betreft de werkgelegenheid doet NRW het slechter dan vergelijkbare, zwaarwegende deelstaten als Beieren, Baden- Wurrtemberg en Hessen, waar de oppositie aan de macht is. Onder de sociaal-democratische minister-president Peer Steinbruck verbreidde zich onder de inwoners van NRW langzaam maar een depressieve stemming. Op alle belangrijke politieke dossiers arbeidsmarkt, veiligheid, gezondheidszorg, onderwijs achten de kiezers de oppositie bekwamer. Dit werd Steinbruck, die notabene geldt als een van de meest competente regionale sociaal-democratische leiders, uiteindelijk fataal. Of Gerhard Schroder, die bekend staat als een politieke pokeraar, met zijn verrassende mokerslag het tij in enkele maanden kan keren, is nu de vraag. Schroder gokt erop dat de oppositie, die tot nog toe vooral uitblinkt door onderling gekrakeel en inhoudelijke vaagheid, niet in staat zal zijn tijdig een aansprekend alternatief te formuleren voor zijn Hervormingsagenda 2010. Ook in 2002 stond rood-groen er in de peilingen abominabel voor, maar uiteindelijk waren het toch Schroder en Fischer, de politieke straatvechters, die aan het langste eind trokken. © Wegener.NV 2005 LOAD-DATE: May 23, 2005 LANGUAGE: Dutch PUB-TYPE: NEWSPAPER                         © Copyright 2005 De Gelderlander\", 'Zieke oud-bondskanselier ontvangt Hongaarse premier De voormalige Duitse bondskanselier Helmut Kohl (86) leek van het podium verdwenen. Toch wist hij de afgelopen dagen ineens weer alle ogen op zich gericht dankzij twee opmerkelijke acties. Dit weekend leverde hij om te beginnen stevige kritiek op het ruimhartige vluchtelingenbeleid van zijn opvolgster Angela Merkel. En gisteren ontving hij Merkels grootste tegenstander in het verhitte vluchtelingendebat: de Hongaarse premier Viktor Orban. Het waren rake klappen in het gezicht van de zittende bondskanselier, met wie Kohl nog een appeltje te schillen had. Maar volgens veel Duitsers speelde er meer dan alleen een koningsdrama tussen een gewezen politicus en zijn opvolgster. Kohl, een overtuigd Europeaan, zou ook een poging hebben gedaan om de opstandige Orban meer in de Europese pas te laten lopen âˆ\\' en daar zou hij Merkel juist een dienst mee hebben bewezen. Aanleiding voor alle ophef is de onlangs verschenen Hongaarse vertaling van Kohls boek \\'Aus Sorge um Europa\\' (2014). In een nieuw voorwoord, zondag gepubliceerd in Der Tagesspiegel, levert Kohl stevige kritiek op het open-deuren-beleid van Merkel. Hij schrijft dat Europa geen toevluchtsoord kan worden voor miljoenen mensen. De oplossing voor de migratiecrisis ligt volgens hem vooral in de gebieden waar mensen uit wegvluchten. Zonder Merkel te noemen schrijft hij verder dat moderne leiders geen \\'besluiten zonder overleg\\' horen te nemen. Het is een verwijzing naar het solistische besluit dat Merkel in september vorig jaar nam om duizenden vluchtelingen vanuit Hongarije vrije doorgang te verlenen via Oostenrijk naar Duitsland. Volgens critici lokte Merkel met deze stap de vluchtelingenstroom uit die nadien over Europa spoelde. Bovenop dit stevige voorwoord ontving Kohl gisteren zijn omstreden \\'vriend\\' Orban, bij hem thuis in Oggersheim (bij Mannheim). De Hongaar verfoeit Merkels wens van een verplichte verdeling van vluchtelingen over Europese landen. Hij wil dat landen hun eigen immigratiebeleid kunnen voeren en liet vorig jaar als eerste Europese leider een grenshek bouwen om vluchtelingen buiten de deur te houden. Voor beide Merkel-onvriendelijke acties van Kohl valt een eenvoudig motief aan te wijzen: wraak. Het was namelijk Merkel die met een artikel in de Frankfurter Allgemeine Zeitung in 1999 het politieke einde inluidde van Kohl, destijds verwikkeld in een groot schandaal rond illegale partijfinanciering. Kohl viel van zijn voetstuk en verloor het erevoorzitterschap van de christendemocratische CDU, wat hij nog steeds nauwelijks kan verkroppen. Toch is wraak waarschijnlijk niet het enige motief van Kohl. Want wie Kohls voorwoord aandachtig leest, ziet dat hij daarin ook Orban ter verantwoording roept. De oud-kanselier betoogt dat de migratiecrisis niet bestreden kan worden met \\'oud, nationaal denken\\', maar alleen door alle landen hecht te laten samenwerken en door dezelfde grondbeginselen te koesteren. \"Hongarije mag daarbij niet ontbreken\", aldus Kohl. Dat klinkt als een duidelijke oproep aan Orban om zich meer te voegen naar het gezamenlijk belang. Kohl staat bekend als uitgesproken pro-Europees. In de jaren negentig zette hij zich fanatiek in voor de Europese integratie. De invoering van de euro is aan hem te danken, en in 1998 benoemde Brussel hem tot \\'ereburger van Europa\\'. Het zou daarom niet zo vreemd zijn, speculeren Duitse politici en journalisten, als Kohl het privébezoek van Orban gisteren heeft aangegrepen om zijn Hongaarse vriend bij te sturen. Of dat ook gebeurd is, vertelt het verhaal helaas niet. Kohl zweeg gisteren, vanwege zijn zwakke gezondheid. Acht jaar geleden liep hij bij een valpartij ernstig hersenletsel op. Sindsdien kan hij bijna niet meer praten; alle communicatie verloopt via zijn 35 jaar jongere vrouw. Hij lichtte zijn bedoelingen dan ook niet toe. Orban legde na afloop wel een korte verklaring af. Hij zei dat Kohl hem deed denken aan de vroegere âˆ\\' broze âˆ\\' paus Johannes Paulus II. En hij vroeg de toegestroomde journalisten om Kohl niet in allerlei politieke speculaties te betrekken. VIEW ORIGINAL PAGE: LOAD-DATE: 19 April 2016 LANGUAGE: DUTCH; NEDERLANDS GRAPHIC: De Hongaarse premier Viktor Orban ging gisteren op bezoek bij oud- bondskanselier Helmut Kohl (86). foto Reuters PUBLICATION-TYPE: Krant JOURNAL-CODE: Trouw                     Copyright 2016 De Persgroep Nederland BV                               All Rights Reserved']\n"
     ]
    }
   ],
   "source": [
    "# Extract the bodies of the documents.\n",
    "bodies = []\n",
    "for document in documents:\n",
    "    documentSplit = document.split('\\n')\n",
    "    documentSplit = list(filter(None, documentSplit))\n",
    "\n",
    "     # Find the part that says 'LENGTH:', because...\n",
    "    lengthItem = next((s for s in documentSplit if 'LENGTH:' in s), None)\n",
    "    lengthIndex = documentSplit.index(lengthItem)\n",
    "    # ...the text is stored in the strings one after the one that says 'LENGTH: xxx woorden'\n",
    "    text = ' '.join(documentSplit[lengthIndex+1:])\n",
    "    bodies.append(text)\n",
    "    \n",
    "print(\"The first five bodies are:\\n{}\".format(bodies[:5]))"
   ]
  },
  {
   "cell_type": "markdown",
   "metadata": {},
   "source": [
    "### Finding the distribution dates"
   ]
  },
  {
   "cell_type": "code",
   "execution_count": 12,
   "metadata": {
    "collapsed": false
   },
   "outputs": [
    {
     "name": "stdout",
     "output_type": "stream",
     "text": [
      "Final date regular expression:\n",
      "(\\d\\d* december \\d\\d\\d\\d|december \\d\\d* \\d\\d\\d\\d|\\d\\d* July \\d\\d\\d\\d|July \\d\\d* \\d\\d\\d\\d|\\d\\d* february \\d\\d\\d\\d|february \\d\\d* \\d\\d\\d\\d|\\d\\d* Februari \\d\\d\\d\\d|Februari \\d\\d* \\d\\d\\d\\d|\\d\\d* September \\d\\d\\d\\d|September \\d\\d* \\d\\d\\d\\d|\\d\\d* November \\d\\d\\d\\d|November \\d\\d* \\d\\d\\d\\d|\\d\\d* october \\d\\d\\d\\d|october \\d\\d* \\d\\d\\d\\d|\\d\\d* March \\d\\d\\d\\d|March \\d\\d* \\d\\d\\d\\d|\\d\\d* september \\d\\d\\d\\d|september \\d\\d* \\d\\d\\d\\d|\\d\\d* mei \\d\\d\\d\\d|mei \\d\\d* \\d\\d\\d\\d|\\d\\d* july \\d\\d\\d\\d|july \\d\\d* \\d\\d\\d\\d|\\d\\d* maart \\d\\d\\d\\d|maart \\d\\d* \\d\\d\\d\\d|\\d\\d* October \\d\\d\\d\\d|October \\d\\d* \\d\\d\\d\\d|\\d\\d* juni \\d\\d\\d\\d|juni \\d\\d* \\d\\d\\d\\d|\\d\\d* august \\d\\d\\d\\d|august \\d\\d* \\d\\d\\d\\d|\\d\\d* January \\d\\d\\d\\d|January \\d\\d* \\d\\d\\d\\d|\\d\\d* Oktober \\d\\d\\d\\d|Oktober \\d\\d* \\d\\d\\d\\d|\\d\\d* August \\d\\d\\d\\d|August \\d\\d* \\d\\d\\d\\d|\\d\\d* juli \\d\\d\\d\\d|juli \\d\\d* \\d\\d\\d\\d|\\d\\d* Mei \\d\\d\\d\\d|Mei \\d\\d* \\d\\d\\d\\d|\\d\\d* Juni \\d\\d\\d\\d|Juni \\d\\d* \\d\\d\\d\\d|\\d\\d* June \\d\\d\\d\\d|June \\d\\d* \\d\\d\\d\\d|\\d\\d* augustus \\d\\d\\d\\d|augustus \\d\\d* \\d\\d\\d\\d|\\d\\d* februari \\d\\d\\d\\d|februari \\d\\d* \\d\\d\\d\\d|\\d\\d* january \\d\\d\\d\\d|january \\d\\d* \\d\\d\\d\\d|\\d\\d* may \\d\\d\\d\\d|may \\d\\d* \\d\\d\\d\\d|\\d\\d* april \\d\\d\\d\\d|april \\d\\d* \\d\\d\\d\\d|\\d\\d* januari \\d\\d\\d\\d|januari \\d\\d* \\d\\d\\d\\d|\\d\\d* December \\d\\d\\d\\d|December \\d\\d* \\d\\d\\d\\d|\\d\\d* june \\d\\d\\d\\d|june \\d\\d* \\d\\d\\d\\d|\\d\\d* Maart \\d\\d\\d\\d|Maart \\d\\d* \\d\\d\\d\\d|\\d\\d* Augustus \\d\\d\\d\\d|Augustus \\d\\d* \\d\\d\\d\\d|\\d\\d* May \\d\\d\\d\\d|May \\d\\d* \\d\\d\\d\\d|\\d\\d* Januari \\d\\d\\d\\d|Januari \\d\\d* \\d\\d\\d\\d|\\d\\d* April \\d\\d\\d\\d|April \\d\\d* \\d\\d\\d\\d|\\d\\d* February \\d\\d\\d\\d|February \\d\\d* \\d\\d\\d\\d|\\d\\d* march \\d\\d\\d\\d|march \\d\\d* \\d\\d\\d\\d|\\d\\d* november \\d\\d\\d\\d|november \\d\\d* \\d\\d\\d\\d|\\d\\d* oktober \\d\\d\\d\\d|oktober \\d\\d* \\d\\d\\d\\d|\\d\\d* Juli \\d\\d\\d\\d|Juli \\d\\d* \\d\\d\\d\\d)\n"
     ]
    }
   ],
   "source": [
    "# Create lists of all possible months to check for.\n",
    "MONTHS_DUTCH = [\"januari\", \"februari\", \"maart\", \"april\", \"mei\", \"juni\", \"juli\", \"augustus\", \"september\", \"oktober\", \"november\", \"december\"]\n",
    "MONTHS_ENGLISH = [\"january\", \"february\", \"march\", \"april\", \"may\", \"june\", \"july\", \"august\", \"september\", \"october\", \"november\", \"december\"]\n",
    "MONTHS_DUTCH_CAPITAL = [month.capitalize() for month in MONTHS_DUTCH]\n",
    "MONTHS_ENGLISH_CAPITAL = [month.capitalize() for month in MONTHS_ENGLISH]\n",
    "\n",
    "MONTHS = list(set(MONTHS_DUTCH + MONTHS_DUTCH_CAPITAL + MONTHS_ENGLISH + MONTHS_ENGLISH_CAPITAL))\n",
    "\n",
    "# Add a regular subexpression for each month to the general regular expression.\n",
    "reMonth = []\n",
    "for month in MONTHS:\n",
    "    # Expression for dd-mm-yyyy\n",
    "    reMonth.append(r\"\\d\\d* {} \\d\\d\\d\\d\".format(month))\n",
    "    # Expression for mm-dd-yyyy\n",
    "    reMonth.append(r\"{} \\d\\d* \\d\\d\\d\\d\".format(month))\n",
    "dateExpression = \"(\" + '|'.join(reMonth) + \")\"\n",
    "\n",
    "print(\"Final date regular expression:\\n{}\".format(dateExpression))"
   ]
  },
  {
   "cell_type": "code",
   "execution_count": 13,
   "metadata": {
    "collapsed": false
   },
   "outputs": [
    {
     "name": "stdout",
     "output_type": "stream",
     "text": [
      "The first five distribution dates are:\n",
      "['20 april 2016', '20 augustus 2011', '', '', '20 april 2016']\n"
     ]
    }
   ],
   "source": [
    "distributionDates = []\n",
    "for document in documents:\n",
    "    allDates = re.findall(dateExpression, document)\n",
    "    # Select the first date in the article and assume it is the distribution date.\n",
    "    try:\n",
    "        distributionDate = allDates[0]\n",
    "    except IndexError:\n",
    "        distributionDate = \"\"\n",
    "    distributionDates.append(distributionDate)\n",
    "\n",
    "print(\"The first five distribution dates are:\\n{}\".format(distributionDates[:5]))"
   ]
  },
  {
   "cell_type": "code",
   "execution_count": 14,
   "metadata": {
    "collapsed": true
   },
   "outputs": [],
   "source": [
    "def createDate(dateString):\n",
    "    \"\"\"A dateString is of the following format:\n",
    "        dd month yyyy\n",
    "    Return a Date that has a selectable day, month and year.\n",
    "    \"\"\"\n",
    "    try:\n",
    "        dateStringSplit = dateString.split(\" \")\n",
    "        return Date(dateStringSplit[0], dateStringSplit[1], dateStringSplit[2])\n",
    "    except IndexError:\n",
    "        return Date(-1, -1, -1)"
   ]
  },
  {
   "cell_type": "markdown",
   "metadata": {},
   "source": [
    "### Creating and saving the aggregated documents"
   ]
  },
  {
   "cell_type": "code",
   "execution_count": 15,
   "metadata": {
    "collapsed": true
   },
   "outputs": [],
   "source": [
    "# Create document objects for each document (for easier access to title, body and date).\n",
    "documents = [Document(titles[documents.index(document)], createDate(distributionDates[documents.index(document)]), bodies[documents.index(document)]) for document in documents]\n",
    "# Remove documents with an invalid date, these cannot be labelled properly.\n",
    "documents = [document for document in documents if document.date.isValid()]"
   ]
  },
  {
   "cell_type": "code",
   "execution_count": 16,
   "metadata": {
    "collapsed": true
   },
   "outputs": [],
   "source": [
    "# Create a new folder for the per_year data.\n",
    "perYearRoot = 'per_year'\n",
    "if not os.path.exists(perYearRoot):\n",
    "    os.makedirs(perYearRoot)\n",
    "\n",
    "# Use the documents' dates to create yearly documents containing the title and\n",
    "# body of each article.\n",
    "for document in documents:\n",
    "    with open(\"{}/{}.txt\".format(perYearRoot, document.date.year), \"a+\") as outputFile:\n",
    "        outputFile.write(document.title + \"\\n\\n\")\n",
    "        outputFile.write(document.body + \"\\n\\n\\n\")"
   ]
  },
  {
   "cell_type": "markdown",
   "metadata": {},
   "source": [
    "We are done with preprocessing.\n",
    "\n",
    "The `documents` and `per_year` folder now contain documents that can be processed with for example NLTK.\n",
    "\n",
    "See `NLTK-Example.ipynb`."
   ]
  },
  {
   "cell_type": "code",
   "execution_count": null,
   "metadata": {
    "collapsed": true
   },
   "outputs": [],
   "source": []
  }
 ],
 "metadata": {
  "kernelspec": {
   "display_name": "Python 3",
   "language": "python",
   "name": "python3"
  },
  "language_info": {
   "codemirror_mode": {
    "name": "ipython",
    "version": 3
   },
   "file_extension": ".py",
   "mimetype": "text/x-python",
   "name": "python",
   "nbconvert_exporter": "python",
   "pygments_lexer": "ipython3",
   "version": "3.6.0"
  }
 },
 "nbformat": 4,
 "nbformat_minor": 1
}
