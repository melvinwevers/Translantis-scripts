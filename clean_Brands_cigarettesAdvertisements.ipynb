{
 "cells": [
  {
   "cell_type": "code",
   "execution_count": 17,
   "metadata": {
    "collapsed": true
   },
   "outputs": [],
   "source": [
    "%matplotlib inline\n",
    "import csv\n",
    "import collections\n",
    "import pprint\n",
    "import sys\n",
    "import pandas as pd\n",
    "import matplot"
   ]
  },
  {
   "cell_type": "code",
   "execution_count": 2,
   "metadata": {
    "collapsed": false
   },
   "outputs": [
    {
     "data": {
      "text/plain": [
       "131072"
      ]
     },
     "execution_count": 2,
     "metadata": {},
     "output_type": "execute_result"
    }
   ],
   "source": [
    "csv.field_size_limit(sys.maxsize)"
   ]
  },
  {
   "cell_type": "code",
   "execution_count": 51,
   "metadata": {
    "collapsed": true
   },
   "outputs": [],
   "source": [
    "main_file = \"all.csv\" #load_export"
   ]
  },
  {
   "cell_type": "code",
   "execution_count": 52,
   "metadata": {
    "collapsed": false
   },
   "outputs": [],
   "source": [
    "df = pd.read_csv(main_file, header=0, sep='\\t')\n",
    "#data = data.set_index(pd.DatetimeIndex(data['paper_dc_date']))"
   ]
  },
  {
   "cell_type": "code",
   "execution_count": 54,
   "metadata": {
    "collapsed": false
   },
   "outputs": [],
   "source": [
    "df['paper_dc_title'] = df['paper_dc_title'].apply(lambda x: x.split(':')[0]) #strip cell after :\n",
    "df['paper_dc_title'] = df['paper_dc_title'].apply(lambda x: x.split('/')[0]) #strip cell after /\n",
    "df['paper_dc_title'] = df['paper_dc_title'].str.lower().str.replace('ĳ', 'ij') #fix error with ij\n",
    "df['text_content'] = df['text_content'].str.lower() #lower-case text content"
   ]
  },
  {
   "cell_type": "code",
   "execution_count": 55,
   "metadata": {
    "collapsed": false
   },
   "outputs": [],
   "source": [
    "df = df[df['text_content'].str.contains(\"bruin\") == False] #words related to Camel\n",
    "df = df[df['text_content'].str.contains(\"wit\") == False]\n",
    "df = df[df['text_content'].str.contains(\"zwart\") == False]\n",
    "df = df[df['text_content'].str.contains(\"kleuren\") == False]\n",
    "df = df[df['text_content'].str.contains(\"grijs\") == False]\n",
    "df = df[df['text_content'].str.contains(\"groen\") == False]\n",
    "df = df[df['text_content'].str.contains(\"beige\") == False]\n",
    "df = df[df['text_content'].str.contains(\"marine\") == False]\n",
    "df = df[df['text_content'].str.contains(\"tweed\") == False]\n",
    "df = df[df['text_content'].str.contains(\"tweed\") == False]\n",
    "df = df[df['text_content'].str.contains(\"mantel\") == False]\n",
    "df = df[df['text_content'].str.contains(\"katoen\") == False]\n",
    "df = df[df['text_content'].str.contains(\"mantels\") == False]\n",
    "df = df[df['text_content'].str.contains(\"maten\") == False]"
   ]
  },
  {
   "cell_type": "code",
   "execution_count": 56,
   "metadata": {
    "collapsed": true
   },
   "outputs": [],
   "source": [
    "df = df[df['text_content'].str.contains(\"theater\") == False] #words related to Roxy\n",
    "df = df[df['text_content'].str.contains(\"geleen\") == False]"
   ]
  },
  {
   "cell_type": "code",
   "execution_count": 58,
   "metadata": {
    "collapsed": false
   },
   "outputs": [],
   "source": [
    "df.to_csv('Brands_cleanUp.csv', index=False) #export to csv"
   ]
  }
 ],
 "metadata": {
  "kernelspec": {
   "display_name": "Python 3",
   "language": "python",
   "name": "python3"
  },
  "language_info": {
   "codemirror_mode": {
    "name": "ipython",
    "version": 3
   },
   "file_extension": ".py",
   "mimetype": "text/x-python",
   "name": "python",
   "nbconvert_exporter": "python",
   "pygments_lexer": "ipython3",
   "version": "3.4.3"
  }
 },
 "nbformat": 4,
 "nbformat_minor": 0
}
